{
 "cells": [
  {
   "cell_type": "markdown",
   "metadata": {},
   "source": [
    "# Satellite forecasting"
   ]
  },
  {
   "cell_type": "markdown",
   "metadata": {},
   "source": [
    "Almanac is valid for predicting DOP up to 2 weeks - 90 days\n",
    "\n",
    "https://receiverhelp.trimble.com/alloy-gnss/en-us/almanacs.html?tocpath=Receiver%20Web%20Interface%7CSatellites%20menu%7C_____6\n",
    "- don't see the download link?\n",
    "\n",
    "Ephemeris is valid 2 hours before and after"
   ]
  },
  {
   "cell_type": "code",
   "execution_count": null,
   "metadata": {},
   "outputs": [],
   "source": [
    "import gnss_lib_py as glp"
   ]
  },
  {
   "cell_type": "code",
   "execution_count": null,
   "metadata": {},
   "outputs": [],
   "source": [
    "from datetime import datetime, timezone\n",
    "# Send time at which SV states are needed in GPS millis\n",
    "start_time = datetime(year=2024,\n",
    "                       month=4,\n",
    "                       day=29,\n",
    "                       hour=22,\n",
    "                       minute=30,\n",
    "                       second=0)\n",
    "start_time = start_time.replace(tzinfo=timezone.utc)\n",
    "start_gps_millis = glp.datetime_to_gps_millis(start_time)"
   ]
  },
  {
   "cell_type": "code",
   "execution_count": null,
   "metadata": {},
   "outputs": [],
   "source": [
    "sp3_path = glp.load_ephemeris(file_type=\"sp3\",\n",
    "                              gps_millis=start_gps_millis,\n",
    "                              verbose=True)"
   ]
  },
  {
   "cell_type": "code",
   "execution_count": null,
   "metadata": {},
   "outputs": [],
   "source": [
    "rx_LLA_durand = np.reshape([37.427112, -122.1764146, 16], [3, 1])\n",
    "rx_ecef_durand = np.reshape(glp.geodetic_to_ecef(rx_LLA_durand), [3, 1])"
   ]
  }
 ],
 "metadata": {
  "language_info": {
   "name": "python"
  }
 },
 "nbformat": 4,
 "nbformat_minor": 2
}
