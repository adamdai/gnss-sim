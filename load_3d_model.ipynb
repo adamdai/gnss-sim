{
 "cells": [
  {
   "cell_type": "code",
   "execution_count": null,
   "metadata": {},
   "outputs": [],
   "source": [
    "import open3d as o3d\n",
    "from o3d_utils import visualize, generate_lineset_from_mesh, create_ground_plane, rays_tensor, ray_geometries\n",
    "\n",
    "%load_ext autoreload\n",
    "%autoreload 2"
   ]
  },
  {
   "cell_type": "code",
   "execution_count": null,
   "metadata": {},
   "outputs": [],
   "source": [
    "# Load the .obj file as a triangle mesh\n",
    "mesh = o3d.io.read_triangle_mesh(\"data/NYC.obj\")\n",
    "\n",
    "mesh_edges = generate_lineset_from_mesh(mesh, exclude_diagonals=True)\n",
    "ground_plane = create_ground_plane(size=500, grid_step=10)"
   ]
  },
  {
   "cell_type": "code",
   "execution_count": 13,
   "metadata": {},
   "outputs": [],
   "source": [
    "# point at (0, 0, 0)\n",
    "point = o3d.geometry.PointCloud()\n",
    "point.points = o3d.utility.Vector3dVector([[0, 0, 0]])\n",
    "point.colors = o3d.utility.Vector3dVector([[1, 0, 0]])\n",
    "\n",
    "visualize([mesh, mesh_edges, ground_plane, point])"
   ]
  },
  {
   "cell_type": "code",
   "execution_count": null,
   "metadata": {},
   "outputs": [],
   "source": [
    "import gnss_lib_py as glp\n",
    "from datetime import datetime, timezone\n",
    "import numpy as np\n",
    "from sv_utils import azel2los_vec, enu2o3d\n",
    "\n",
    "# Send time at which SV states are needed in GPS millis\n",
    "timestamp_start = datetime(year=2023, month=3, day=14, hour=12, tzinfo=timezone.utc)\n",
    "timestamp_end = datetime(year=2023, month=3, day=14, hour=13, tzinfo=timezone.utc)\n",
    "gps_millis = glp.datetime_to_gps_millis(np.array([timestamp_start,timestamp_end]))\n",
    "\n",
    "sp3_path = glp.load_ephemeris(file_type=\"sp3\", gps_millis=gps_millis, verbose=True)\n",
    "sp3 = glp.Sp3(sp3_path)"
   ]
  },
  {
   "cell_type": "code",
   "execution_count": null,
   "metadata": {},
   "outputs": [],
   "source": [
    "rx_LLA = np.reshape([40.74685, -73.9895, 0], [3, 1])\n",
    "rx_ecef = np.reshape(glp.geodetic_to_ecef(rx_LLA), [3, 1])\n",
    "\n",
    "rx_state = glp.NavData()\n",
    "rx_state[\"gps_millis\"] = gps_millis[0]\n",
    "rx_state[\"x_rx_m\"] = rx_ecef[0]\n",
    "rx_state[\"y_rx_m\"] = rx_ecef[1]\n",
    "rx_state[\"z_rx_m\"] = rx_ecef[2]\n",
    "\n",
    "# Plot skyplot computes az/els\n",
    "# sp3 = sp3.where(\"gps_millis\", sp3['gps_millis'][0], \"eq\")\n",
    "fig = glp.plot_skyplot(sp3, rx_state)"
   ]
  },
  {
   "cell_type": "code",
   "execution_count": 11,
   "metadata": {},
   "outputs": [],
   "source": [
    "timestamps = []\n",
    "sv_azels_per_epoch = []\n",
    "\n",
    "for timestamp, delta_t, data in glp.loop_time(sp3, \"gps_millis\"):\n",
    "    all_sv_els = data['el_sv_deg']\n",
    "    all_sv_azs = data['az_sv_deg']\n",
    "\n",
    "    above_horizon_svs = all_sv_els > 0 \n",
    "    above_horizon_sv_els = all_sv_els[above_horizon_svs]\n",
    "    above_horizon_sv_azs = all_sv_azs[above_horizon_svs]\n",
    "\n",
    "    azels_rad = np.radians(np.stack([above_horizon_sv_azs, above_horizon_sv_els], axis=1))\n",
    "    timestamps.append(timestamp)\n",
    "    sv_azels_per_epoch.append(azels_rad)"
   ]
  },
  {
   "cell_type": "code",
   "execution_count": null,
   "metadata": {},
   "outputs": [],
   "source": [
    "mask = data[\"gnss_id\"] == \"gps\"\n",
    "data_df = data.pandas_df()\n",
    "data_df[mask]"
   ]
  },
  {
   "cell_type": "code",
   "execution_count": null,
   "metadata": {},
   "outputs": [],
   "source": [
    "new_data = glp.NavData()\n",
    "new_data.from_pandas_df(data_df[mask])\n",
    "dop_df = glp.get_dop(new_data)\n",
    "dop_df[\"HDOP\"]"
   ]
  },
  {
   "cell_type": "code",
   "execution_count": 14,
   "metadata": {},
   "outputs": [],
   "source": [
    "first_gps_millis = sp3['gps_millis'][0]\n",
    "all_sv_els = sp3['el_sv_deg'][sp3['gps_millis'] == first_gps_millis]\n",
    "all_sv_azs = sp3['az_sv_deg'][sp3['gps_millis'] == first_gps_millis]\n",
    "\n",
    "visible_svs = all_sv_els > 0 \n",
    "visible_sv_els = all_sv_els[visible_svs]\n",
    "visible_sv_azs = all_sv_azs[visible_svs]\n",
    "\n",
    "azels_rad = np.radians(np.stack([visible_sv_azs, visible_sv_els], axis=1))"
   ]
  },
  {
   "cell_type": "code",
   "execution_count": 15,
   "metadata": {},
   "outputs": [],
   "source": [
    "nominal_directions = enu2o3d(azel2los_vec(azels_rad))\n",
    "\n",
    "SOURCE_DIST = 1000\n",
    "\n",
    "ray_origins = SOURCE_DIST * nominal_directions\n",
    "ray_directions = -ray_origins\n",
    "ray_tensor = rays_tensor(ray_origins, ray_directions)\n",
    "ray_geom = ray_geometries(ray_origins, ray_directions)"
   ]
  },
  {
   "cell_type": "code",
   "execution_count": 16,
   "metadata": {},
   "outputs": [],
   "source": [
    "visualize([mesh, mesh_edges, ground_plane, point] + ray_geom)"
   ]
  },
  {
   "cell_type": "code",
   "execution_count": null,
   "metadata": {},
   "outputs": [],
   "source": [
    "scene = o3d.t.geometry.RaycastingScene()\n",
    "scene.add_triangles(o3d.t.geometry.TriangleMesh.from_legacy(mesh))\n",
    "result = scene.cast_rays(ray_tensor)"
   ]
  },
  {
   "cell_type": "code",
   "execution_count": null,
   "metadata": {},
   "outputs": [],
   "source": [
    "result['t_hit'].cpu().numpy() == np.inf"
   ]
  },
  {
   "cell_type": "code",
   "execution_count": null,
   "metadata": {},
   "outputs": [],
   "source": [
    "import open3d as o3d\n",
    "import numpy as np\n",
    "import time\n",
    "\n",
    "# Create a static mesh (example: a sphere)\n",
    "mesh = o3d.geometry.TriangleMesh.create_sphere(radius=1.0)\n",
    "mesh.paint_uniform_color([0.1, 0.1, 0.7])\n",
    "\n",
    "# Define the initial line set\n",
    "# Example: creating some simple lines\n",
    "points = np.array([[0, 0, 0], [1, 0, 0], [0, 1, 0], [0, 0, 1]])\n",
    "lines = np.array([[0, 1], [0, 2], [0, 3]])\n",
    "colors = np.array([[1, 0, 0] for _ in range(len(lines))])  # Red color for lines\n",
    "\n",
    "line_set = o3d.geometry.LineSet()\n",
    "line_set.points = o3d.utility.Vector3dVector(points)\n",
    "line_set.lines = o3d.utility.Vector2iVector(lines)\n",
    "line_set.colors = o3d.utility.Vector3dVector(colors)\n",
    "\n",
    "# Create visualizer object\n",
    "vis = o3d.visualization.Visualizer()\n",
    "vis.create_window()\n",
    "\n",
    "# Add static mesh to the scene\n",
    "vis.add_geometry(mesh)\n",
    "# Add lines to the scene\n",
    "vis.add_geometry(line_set)\n",
    "\n",
    "# Animation loop\n",
    "for i in range(100):\n",
    "    # Update line positions (e.g., move lines over time)\n",
    "    points[:, 0] += 0.01  # Move the lines along the x-axis\n",
    "    line_set.points = o3d.utility.Vector3dVector(points)\n",
    "    \n",
    "    vis.update_geometry(line_set)\n",
    "    vis.poll_events()\n",
    "    vis.update_renderer()\n",
    "\n",
    "    time.sleep(0.05)  # Add a short delay to slow down the animation\n",
    "\n",
    "# Close the visualizer after the animation is done\n",
    "vis.destroy_window()\n"
   ]
  }
 ],
 "metadata": {
  "kernelspec": {
   "display_name": "gnss",
   "language": "python",
   "name": "python3"
  },
  "language_info": {
   "codemirror_mode": {
    "name": "ipython",
    "version": 3
   },
   "file_extension": ".py",
   "mimetype": "text/x-python",
   "name": "python",
   "nbconvert_exporter": "python",
   "pygments_lexer": "ipython3",
   "version": "3.8.19"
  }
 },
 "nbformat": 4,
 "nbformat_minor": 2
}
