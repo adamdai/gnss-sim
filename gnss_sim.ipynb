{
 "cells": [
  {
   "cell_type": "code",
   "execution_count": 1,
   "metadata": {},
   "outputs": [],
   "source": [
    "import numpy as np\n",
    "%load_ext autoreload\n",
    "%autoreload 2"
   ]
  },
  {
   "cell_type": "markdown",
   "metadata": {},
   "source": [
    "# Ray casting"
   ]
  },
  {
   "cell_type": "markdown",
   "metadata": {},
   "source": [
    "open3d coordinate system: right, up, out"
   ]
  },
  {
   "cell_type": "code",
   "execution_count": 32,
   "metadata": {},
   "outputs": [],
   "source": [
    "import open3d as o3d\n",
    "from o3d_utils import ray_geometries, visualize, rays_tensor"
   ]
  },
  {
   "cell_type": "markdown",
   "metadata": {},
   "source": [
    "Setup the scene"
   ]
  },
  {
   "cell_type": "code",
   "execution_count": 3,
   "metadata": {},
   "outputs": [],
   "source": [
    "meshes = []\n",
    "scene = o3d.t.geometry.RaycastingScene()\n",
    "\n",
    "# width, height, depth\n",
    "box_dims = np.array([[1.0, 3.0, 1.0], [1.0, 3.0, 1.0], [3.0, 3.0, 1.0]])\n",
    "box_positions = np.array([[2.0, 0, 0], [0, 0.0, -1.5], [0.5, 0.0, 1.5]])\n",
    "\n",
    "for i in range(box_dims.shape[0]):\n",
    "    box_mesh = o3d.geometry.TriangleMesh.create_box(box_dims[i, 0], box_dims[i, 1], box_dims[i, 2])\n",
    "    box_mesh.translate(box_positions[i])\n",
    "    meshes.append(box_mesh)\n",
    "    box_tris = o3d.t.geometry.TriangleMesh.from_legacy(box_mesh)\n",
    "    scene.add_triangles(box_tris)"
   ]
  },
  {
   "cell_type": "code",
   "execution_count": 4,
   "metadata": {},
   "outputs": [],
   "source": [
    "# Define ray origins and directions\n",
    "ray_origins = np.array([[0, 0, 0], [0, 0, 0], [0, 0, 0]])  # All originating from the origin\n",
    "ray_directions = np.array([[1, 1, 1], [-1, 1, 0], [0, 1, 1]])  # Different directions\n",
    "\n",
    "rays_vis = ray_geometries(ray_origins, ray_directions)"
   ]
  },
  {
   "cell_type": "code",
   "execution_count": 5,
   "metadata": {},
   "outputs": [],
   "source": [
    "geometries = meshes + rays_vis\n",
    "visualize(geometries)"
   ]
  },
  {
   "cell_type": "code",
   "execution_count": null,
   "metadata": {},
   "outputs": [],
   "source": [
    "rays = rays_tensor(ray_origins, ray_directions)\n",
    "result = scene.cast_rays(rays)\n",
    "result"
   ]
  },
  {
   "cell_type": "code",
   "execution_count": 7,
   "metadata": {},
   "outputs": [],
   "source": [
    "from o3d_utils import reflect"
   ]
  },
  {
   "cell_type": "code",
   "execution_count": 8,
   "metadata": {},
   "outputs": [],
   "source": [
    "num_reflections = 1\n",
    "reflect_origins = []\n",
    "reflect_directions = []\n",
    "\n",
    "for i in range(len(result['t_hit'])):\n",
    "    if result['t_hit'][i] < np.inf:\n",
    "        reflect_direction = reflect(ray_directions[i], result['primitive_normals'][i].numpy())\n",
    "        reflect_origin = ray_origins[i] + result['t_hit'][i].numpy() * ray_directions[i]\n",
    "        reflect_origins.append(reflect_origin)\n",
    "        reflect_directions.append(reflect_direction)\n",
    "\n",
    "reflected_rays_vis = ray_geometries(reflect_origins, reflect_directions)"
   ]
  },
  {
   "cell_type": "code",
   "execution_count": 9,
   "metadata": {},
   "outputs": [],
   "source": [
    "geometries = meshes + rays_vis + reflected_rays_vis\n",
    "visualize(geometries)"
   ]
  },
  {
   "cell_type": "markdown",
   "metadata": {},
   "source": [
    "reflection formula: r = d - 2 * dot(d, n) * n\n",
    "- r: reflected direction\n",
    "- d: incident direction\n",
    "- n: normal direction"
   ]
  },
  {
   "cell_type": "markdown",
   "metadata": {},
   "source": [
    "NLOS determination\n",
    "1. setup scene geometry\n",
    "2. from satellite az/els, calculate ray directions from receiver (origin) to satellites\n",
    "3. cast rays and check for intersection\n",
    "\n",
    "Direct DOP prediction?\n",
    "- continuous equivalent, like SDF\n",
    "- \"volumetric\" DOP - compute from sky visibility shape\n",
    "\n",
    "Multipath prediction\n",
    "1. setup scene geometry\n",
    "2. assume approximate receiver position\n",
    "3. from satellite az/els, calculate nominal ray directions from satellites to receiver\n",
    "4. for each nominal ray, form ray bundle of parallel rays\n",
    "5. cast ray bundles and compute reflections"
   ]
  },
  {
   "cell_type": "code",
   "execution_count": 24,
   "metadata": {},
   "outputs": [],
   "source": [
    "from o3d_utils import setup_scene"
   ]
  },
  {
   "cell_type": "code",
   "execution_count": 28,
   "metadata": {},
   "outputs": [],
   "source": [
    "def azel2los(az, el):\n",
    "    x = np.cos(az) * np.sin(el)\n",
    "    y = np.sin(az) * np.sin(el)\n",
    "    z = np.cos(el)\n",
    "    return np.array([x, y, z])\n",
    "\n",
    "def azel2los_vec(azels):\n",
    "    x = np.cos(azels[:,0]) * np.sin(azels[:,1])\n",
    "    y = np.sin(azels[:,0]) * np.sin(azels[:,1])\n",
    "    z = np.cos(azels[:,1])\n",
    "    return np.stack((x,y,z)).T\n",
    "\n",
    "def enu2o3d(enu):\n",
    "    # ENU: right, in, up\n",
    "    # o3d: right, up, out\n",
    "    o3d_pts = enu[:,[0,2,1]]\n",
    "    o3d_pts[:,2] *= -1\n",
    "    return o3d_pts"
   ]
  },
  {
   "cell_type": "code",
   "execution_count": 29,
   "metadata": {},
   "outputs": [],
   "source": [
    "# width, height, depth\n",
    "box_dims = np.array([[10.0, 30.0, 10.0], [15.0, 20.0, 10.0], [30.0, 50.0, 12.0]])\n",
    "box_positions = np.array([[20.0, 0, -10.0], [-20, 0.0, 0.0], [20, 0.0, 15.0]])\n",
    "\n",
    "scene, meshes = setup_scene(box_dims, box_positions)"
   ]
  },
  {
   "cell_type": "code",
   "execution_count": 33,
   "metadata": {},
   "outputs": [],
   "source": [
    "azels = np.deg2rad(np.array([[10, 20], [40, 50], [100, 30], [240, 45]]))\n",
    "nominal_directions = enu2o3d(azel2los_vec(azels))\n",
    "\n",
    "SOURCE_DIST = 100\n",
    "\n",
    "ray_origins = SOURCE_DIST * nominal_directions\n",
    "ray_directions = -ray_origins\n",
    "ray_tensor = rays_tensor(ray_origins, ray_directions)\n",
    "ray_geom = ray_geometries(ray_origins, ray_directions)"
   ]
  },
  {
   "cell_type": "code",
   "execution_count": 35,
   "metadata": {},
   "outputs": [],
   "source": [
    "visualize(meshes + ray_geom)"
   ]
  },
  {
   "cell_type": "code",
   "execution_count": 36,
   "metadata": {},
   "outputs": [],
   "source": [
    "def ray_bundle(ray_origin, ray_direction):\n",
    "    # Sample random points in ball near ray origin\n",
    "    # (more proper: sample points (regularly) in disk in ray direction normal plane)\n",
    "    NUM_RAYS = 5\n",
    "    RADIUS = 1.0\n",
    "\n",
    "    origins = ray_origin + RADIUS * np.random.uniform(-1.0, 1.0, (NUM_RAYS, 3))"
   ]
  },
  {
   "cell_type": "markdown",
   "metadata": {},
   "source": [
    "# Satellite forecasting"
   ]
  },
  {
   "cell_type": "markdown",
   "metadata": {},
   "source": [
    "Almanac is valid for predicting DOP up to 2 weeks - 90 days\n",
    "\n",
    "https://receiverhelp.trimble.com/alloy-gnss/en-us/almanacs.html?tocpath=Receiver%20Web%20Interface%7CSatellites%20menu%7C_____6\n",
    "- don't see the download link?\n",
    "\n",
    "Ephemeris is valid 2 hours before and after"
   ]
  },
  {
   "cell_type": "code",
   "execution_count": 6,
   "metadata": {},
   "outputs": [],
   "source": [
    "import gnss_lib_py as glp"
   ]
  },
  {
   "cell_type": "code",
   "execution_count": 11,
   "metadata": {},
   "outputs": [],
   "source": [
    "from datetime import datetime, timezone\n",
    "# Send time at which SV states are needed in GPS millis\n",
    "start_time = datetime(year=2024,\n",
    "                       month=4,\n",
    "                       day=29,\n",
    "                       hour=22,\n",
    "                       minute=30,\n",
    "                       second=0)\n",
    "start_time = start_time.replace(tzinfo=timezone.utc)\n",
    "start_gps_millis = glp.datetime_to_gps_millis(start_time)"
   ]
  },
  {
   "cell_type": "code",
   "execution_count": null,
   "metadata": {},
   "outputs": [],
   "source": [
    "sp3_path = glp.load_ephemeris(file_type=\"sp3\",\n",
    "                              gps_millis=start_gps_millis,\n",
    "                              verbose=True)"
   ]
  },
  {
   "cell_type": "code",
   "execution_count": null,
   "metadata": {},
   "outputs": [],
   "source": [
    "rx_LLA_durand = np.reshape([37.427112, -122.1764146, 16], [3, 1])\n",
    "rx_ecef_durand = np.reshape(glp.geodetic_to_ecef(rx_LLA_durand), [3, 1])"
   ]
  }
 ],
 "metadata": {
  "kernelspec": {
   "display_name": "gnss-sim",
   "language": "python",
   "name": "python3"
  },
  "language_info": {
   "codemirror_mode": {
    "name": "ipython",
    "version": 3
   },
   "file_extension": ".py",
   "mimetype": "text/x-python",
   "name": "python",
   "nbconvert_exporter": "python",
   "pygments_lexer": "ipython3",
   "version": "3.8.19"
  }
 },
 "nbformat": 4,
 "nbformat_minor": 2
}
